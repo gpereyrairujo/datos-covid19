{
 "metadata": {
  "language_info": {
   "codemirror_mode": {
    "name": "ipython",
    "version": 3
   },
   "file_extension": ".py",
   "mimetype": "text/x-python",
   "name": "python",
   "nbconvert_exporter": "python",
   "pygments_lexer": "ipython3",
   "version": "3.7.3-final"
  },
  "orig_nbformat": 2,
  "kernelspec": {
   "name": "Python 3.7.3 64-bit",
   "display_name": "Python 3.7.3 64-bit",
   "metadata": {
    "interpreter": {
     "hash": "ea1612a5c47911d80844261960ed777653760ec578f005c9390f8f556c01b68f"
    }
   }
  }
 },
 "nbformat": 4,
 "nbformat_minor": 2,
 "cells": [
  {
   "cell_type": "code",
   "execution_count": 24,
   "metadata": {},
   "outputs": [],
   "source": [
    "import pandas as pd\n",
    "import numpy as np\n",
    "import matplotlib.pyplot as plt\n",
    "import matplotlib.dates as mdates\n",
    "\n",
    "carpeta_origen = '../csv/'\n",
    "archivo_datos_movilidad = 'datos_movilidad_diarios_municipios_bsas.csv'\n",
    "columnas_con_fechas = [0]\n",
    "ruta = carpeta_origen + archivo_datos_movilidad\n",
    "datos_movilidad = pd.read_csv(ruta, parse_dates=columnas_con_fechas, infer_datetime_format=True)\n"
   ]
  },
  {
   "cell_type": "code",
   "execution_count": 25,
   "metadata": {},
   "outputs": [],
   "source": [
    "# estilo para los gráficos\n",
    "plt.style.use('seaborn-whitegrid')\n",
    "plt.rcParams['lines.linewidth'] = 3\n",
    "plt.rcParams[\"legend.loc\"] = 'best'\n",
    "plt.rcParams[\"xtick.labelsize\"] = 11\n",
    "plt.rcParams[\"ytick.labelsize\"] = 11\n",
    "plt.rcParams[\"axes.labelsize\"] = 8"
   ]
  },
  {
   "cell_type": "code",
   "execution_count": 26,
   "metadata": {},
   "outputs": [
    {
     "output_type": "execute_result",
     "data": {
      "text/plain": "                        poblacion  movilidad_ultimo_mes\nAyacucho                    21291             75.898317\nBalcarce                    45691             77.324433\nGeneral Alvarado            44149             66.099367\nGeneral Guido                2892                   NaN\nGeneral Juan Madariaga      21596             71.364167\nGeneral Lavalle              4459                   NaN\nGeneral Pueyrredón         656456             61.413367\nLa Costa                    78554             69.799267\nLobería                     18281             75.282567\nMaipú                       10388             74.224344\nMar Chiquita                25344             61.601500\nNecochea                    95995             74.900100\nPinamar                     31584             68.758733\nSan Cayetano                 8797             84.938000\nTandil                     139300             71.584933\nVilla Gesell                38034             67.281000",
      "text/html": "<div>\n<style scoped>\n    .dataframe tbody tr th:only-of-type {\n        vertical-align: middle;\n    }\n\n    .dataframe tbody tr th {\n        vertical-align: top;\n    }\n\n    .dataframe thead th {\n        text-align: right;\n    }\n</style>\n<table border=\"1\" class=\"dataframe\">\n  <thead>\n    <tr style=\"text-align: right;\">\n      <th></th>\n      <th>poblacion</th>\n      <th>movilidad_ultimo_mes</th>\n    </tr>\n  </thead>\n  <tbody>\n    <tr>\n      <th>Ayacucho</th>\n      <td>21291</td>\n      <td>75.898317</td>\n    </tr>\n    <tr>\n      <th>Balcarce</th>\n      <td>45691</td>\n      <td>77.324433</td>\n    </tr>\n    <tr>\n      <th>General Alvarado</th>\n      <td>44149</td>\n      <td>66.099367</td>\n    </tr>\n    <tr>\n      <th>General Guido</th>\n      <td>2892</td>\n      <td>NaN</td>\n    </tr>\n    <tr>\n      <th>General Juan Madariaga</th>\n      <td>21596</td>\n      <td>71.364167</td>\n    </tr>\n    <tr>\n      <th>General Lavalle</th>\n      <td>4459</td>\n      <td>NaN</td>\n    </tr>\n    <tr>\n      <th>General Pueyrredón</th>\n      <td>656456</td>\n      <td>61.413367</td>\n    </tr>\n    <tr>\n      <th>La Costa</th>\n      <td>78554</td>\n      <td>69.799267</td>\n    </tr>\n    <tr>\n      <th>Lobería</th>\n      <td>18281</td>\n      <td>75.282567</td>\n    </tr>\n    <tr>\n      <th>Maipú</th>\n      <td>10388</td>\n      <td>74.224344</td>\n    </tr>\n    <tr>\n      <th>Mar Chiquita</th>\n      <td>25344</td>\n      <td>61.601500</td>\n    </tr>\n    <tr>\n      <th>Necochea</th>\n      <td>95995</td>\n      <td>74.900100</td>\n    </tr>\n    <tr>\n      <th>Pinamar</th>\n      <td>31584</td>\n      <td>68.758733</td>\n    </tr>\n    <tr>\n      <th>San Cayetano</th>\n      <td>8797</td>\n      <td>84.938000</td>\n    </tr>\n    <tr>\n      <th>Tandil</th>\n      <td>139300</td>\n      <td>71.584933</td>\n    </tr>\n    <tr>\n      <th>Villa Gesell</th>\n      <td>38034</td>\n      <td>67.281000</td>\n    </tr>\n  </tbody>\n</table>\n</div>"
     },
     "metadata": {},
     "execution_count": 26
    }
   ],
   "source": [
    "# listado de municipios de la región sanitaria VIII, y la población de cada uno\n",
    "municipios = ['Ayacucho', 'Balcarce', 'General Alvarado', 'General Guido', 'General Juan Madariaga', 'General Lavalle', 'General Pueyrredón', 'La Costa', 'Lobería', 'Maipú', 'Mar Chiquita', 'Necochea', 'Pinamar', 'San Cayetano', 'Tandil', 'Villa Gesell']\n",
    "poblaciones = [21291, 45691, 44149, 2892, 21596, 4459, 656456, 78554, 18281, 10388, 25344, 95995, 31584, 8797, 139300, 38034]\n",
    "datos_municipios = pd.DataFrame(poblaciones, index=municipios, columns=['poblacion'])\n",
    "\n",
    "datos_movilidad['General Guido'] = np.nan\n",
    "\n",
    "# correr el código completo para cada uno de los municipios\n",
    "for municipio in municipios:\n",
    "\n",
    "    color_verde = 'forestgreen'\n",
    "    fig, ax = plt.subplots(1, 1, figsize=(6,4))\n",
    "\n",
    "    ax.plot(datos_movilidad['ds'], 100*(1+datos_movilidad[municipio].rolling(7).mean()), '-', color=color_verde, linewidth=3.5)\n",
    "    ax.plot(datos_movilidad['ds'], 100*(1+datos_movilidad[municipio]), ':', color=color_verde, linewidth=0.5)\n",
    "\n",
    "    # ejes\n",
    "    ax.xaxis.set_major_formatter(mdates.DateFormatter('%d/%m'))\n",
    "    fecha_izquierda = mdates.datestr2num('2020/02/23 00:00:00')\n",
    "    ax.set_xlim(left=fecha_izquierda)\n",
    "    ax.set_ylim(bottom=0, top=110)\n",
    "    # color grilla\n",
    "    ax.grid(color=[0.9,0.9,0.9])\n",
    "    # leyenda\n",
    "    plt.xlabel('Elaboración: Gustavo Pereyra Irujo - Luciano Velázquez | FCA-UNMDP/INTA/CONICET', horizontalalignment='right', x=1.0)\n",
    "    plt.title('Movilidad | '+municipio, fontsize=15, horizontalalignment='left', x=0.0, y=1.03, color=color_verde)\n",
    "\n",
    "    # guardar gráfico\n",
    "    carpeta = '../graficos/'\n",
    "    archivo_grafico = 'Movilidad '+municipio+'.png'\n",
    "    plt.savefig(carpeta+archivo_grafico, bbox_inches = 'tight', pad_inches = 0.1, dpi=150)\n",
    "\n",
    "    plt.close()\n",
    "\n",
    "    # calcular movilidad último mes\n",
    "    movilidad_ultimo_mes = 100*(1+datos_movilidad[municipio].tail(30).mean())\n",
    "    datos_municipios.loc[municipio, 'movilidad_ultimo_mes'] = movilidad_ultimo_mes\n",
    "\n",
    "datos_municipios\n"
   ]
  }
 ]
}